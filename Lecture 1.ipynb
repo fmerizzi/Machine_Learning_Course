{
 "cells": [
  {
   "cell_type": "markdown",
   "id": "7bb23d9d",
   "metadata": {
    "slideshow": {
     "slide_type": "slide"
    }
   },
   "source": [
    "# Lecture 1 \n",
    "In this lecture we will introduce the main libraries involved in machine learning with python:\n",
    "\n",
    "0) jupyter & pip \n",
    "\n",
    "1) Numpy\n",
    "\n",
    "2) Matplotlib \n",
    "\n",
    "2) Pandas & sns \n",
    "\n",
    "3) Scikit learn \n",
    "\n",
    "Finally we will approach a well known classification problem with decision trees"
   ]
  },
  {
   "cell_type": "markdown",
   "id": "f2f90f88",
   "metadata": {
    "slideshow": {
     "slide_type": "fragment"
    }
   },
   "source": [
    "### Missing a library in python? \n",
    "for example RISE that I used to turn this notebooks into slides..\n",
    "\n",
    "In jupyter you can install it easily with pip (or conda) by using !, which let you access the terminal. "
   ]
  },
  {
   "cell_type": "code",
   "execution_count": null,
   "id": "563c88e1",
   "metadata": {
    "scrolled": false,
    "slideshow": {
     "slide_type": "slide"
    }
   },
   "outputs": [],
   "source": [
    "!pip install RISE"
   ]
  },
  {
   "cell_type": "code",
   "execution_count": null,
   "id": "19b4fb6c",
   "metadata": {
    "slideshow": {
     "slide_type": "fragment"
    }
   },
   "outputs": [],
   "source": [
    "!jupyter-nbextension install rise --py --sys-prefix\n",
    "!jupyter-nbextension enable rise --py --sys-prefix"
   ]
  },
  {
   "cell_type": "markdown",
   "id": "6dc1c723",
   "metadata": {
    "slideshow": {
     "slide_type": "slide"
    }
   },
   "source": [
    "### Import Libraries in python"
   ]
  },
  {
   "cell_type": "code",
   "execution_count": 4,
   "id": "83b6d2aa",
   "metadata": {
    "slideshow": {
     "slide_type": "fragment"
    }
   },
   "outputs": [],
   "source": [
    "import numpy as np \n",
    "import matplotlib.pyplot as plt"
   ]
  },
  {
   "cell_type": "markdown",
   "id": "bbdc90b9",
   "metadata": {
    "slideshow": {
     "slide_type": "fragment"
    }
   },
   "source": [
    "NumPy is a foundational Python library that provides efficient numerical operations on large arrays and matrices, along with a lot of high-level mathematical functions to operate on these structures."
   ]
  },
  {
   "cell_type": "code",
   "execution_count": 11,
   "id": "813f1ae7",
   "metadata": {
    "slideshow": {
     "slide_type": "fragment"
    }
   },
   "outputs": [
    {
     "name": "stdout",
     "output_type": "stream",
     "text": [
      "[[ 7 10]\n",
      " [15 22]]\n"
     ]
    }
   ],
   "source": [
    "a = np.array([[1,2],[3,4]])\n",
    "#matrix multiplication\n",
    "print(a @ a)"
   ]
  },
  {
   "cell_type": "markdown",
   "id": "d968e847",
   "metadata": {
    "slideshow": {
     "slide_type": "fragment"
    }
   },
   "source": [
    "NumPy is great.. so simple and elegant!\n",
    "\n",
    "However, it has drawbacks. It struggle with big datasets, has very little support for structured data. That's why Pandas, Xarray, and others exist. "
   ]
  },
  {
   "cell_type": "markdown",
   "id": "b7cb0744",
   "metadata": {
    "slideshow": {
     "slide_type": "slide"
    }
   },
   "source": [
    "### Basic matrix manipulation with NumPy"
   ]
  },
  {
   "cell_type": "code",
   "execution_count": 39,
   "id": "3c72e9e2",
   "metadata": {
    "slideshow": {
     "slide_type": "fragment"
    }
   },
   "outputs": [
    {
     "data": {
      "text/plain": [
       "array([[0.51368441, 0.44883622, 0.85322844, 0.28303128, 0.02753725],\n",
       "       [0.93207975, 0.54815929, 0.00319891, 0.66159564, 0.82139548],\n",
       "       [0.12742432, 0.70775883, 0.10793436, 0.23443823, 0.08273547],\n",
       "       [0.40957473, 0.46851879, 0.68164042, 0.12964005, 0.43436918],\n",
       "       [0.65073934, 0.71744834, 0.69979368, 0.02199155, 0.62198545]])"
      ]
     },
     "execution_count": 39,
     "metadata": {},
     "output_type": "execute_result"
    }
   ],
   "source": [
    "# random array \n",
    "rand = np.random.rand(5,5)\n",
    "rand"
   ]
  },
  {
   "cell_type": "code",
   "execution_count": 26,
   "id": "5a2dbdee",
   "metadata": {
    "slideshow": {
     "slide_type": "fragment"
    }
   },
   "outputs": [
    {
     "data": {
      "text/plain": [
       "(5, 5)"
      ]
     },
     "execution_count": 26,
     "metadata": {},
     "output_type": "execute_result"
    }
   ],
   "source": [
    "rand.shape"
   ]
  },
  {
   "cell_type": "code",
   "execution_count": 27,
   "id": "1e826442",
   "metadata": {
    "slideshow": {
     "slide_type": "fragment"
    }
   },
   "outputs": [
    {
     "data": {
      "text/plain": [
       "array([[0.34459945, 0.82681635],\n",
       "       [0.56786557, 0.95809206]])"
      ]
     },
     "execution_count": 27,
     "metadata": {},
     "output_type": "execute_result"
    }
   ],
   "source": [
    "rand[:2,:2]"
   ]
  },
  {
   "cell_type": "code",
   "execution_count": 28,
   "id": "7dc55175",
   "metadata": {
    "slideshow": {
     "slide_type": "fragment"
    }
   },
   "outputs": [
    {
     "data": {
      "text/plain": [
       "array([[0.48246414, 0.53426721],\n",
       "       [0.90328978, 0.55372856]])"
      ]
     },
     "execution_count": 28,
     "metadata": {},
     "output_type": "execute_result"
    }
   ],
   "source": [
    "rand[-2:,-2:]"
   ]
  },
  {
   "cell_type": "code",
   "execution_count": 31,
   "id": "31e308ad",
   "metadata": {
    "slideshow": {
     "slide_type": "fragment"
    }
   },
   "outputs": [
    {
     "data": {
      "text/plain": [
       "array([[0.34459945, 0.82681635, 0.52643449, 0.71193571],\n",
       "       [0.56786557, 0.95809206, 0.82722953, 0.4641409 ],\n",
       "       [0.71464374, 0.56560123, 0.20961389, 0.80060157],\n",
       "       [0.74431704, 0.05958767, 0.71268062, 0.48246414],\n",
       "       [0.74771348, 0.48592633, 0.17368735, 0.90328978]])"
      ]
     },
     "execution_count": 31,
     "metadata": {},
     "output_type": "execute_result"
    }
   ],
   "source": [
    "#dropping a column?\n",
    "rand[:,:-1]"
   ]
  },
  {
   "cell_type": "code",
   "execution_count": 32,
   "id": "6049c7f3",
   "metadata": {
    "slideshow": {
     "slide_type": "slide"
    }
   },
   "outputs": [
    {
     "data": {
      "text/plain": [
       "array([[34.45994534, 82.6816354 , 52.64344911, 71.19357125, 35.53648299],\n",
       "       [56.78655655, 95.80920597, 82.72295251, 46.41409009, 72.04291972],\n",
       "       [71.46437393, 56.56012338, 20.96138919, 80.06015687, 94.76490725],\n",
       "       [74.43170393,  5.95876656, 71.2680619 , 48.24641447, 53.42672067],\n",
       "       [74.77134763, 48.59263258, 17.36873484, 90.32897751, 55.37285628]])"
      ]
     },
     "execution_count": 32,
     "metadata": {},
     "output_type": "execute_result"
    }
   ],
   "source": [
    "rand*100"
   ]
  },
  {
   "cell_type": "code",
   "execution_count": 36,
   "id": "436ef95f",
   "metadata": {
    "slideshow": {
     "slide_type": "fragment"
    }
   },
   "outputs": [
    {
     "data": {
      "text/plain": [
       "array([[0.34459945, 0.        , 0.        , 0.        , 0.35536483],\n",
       "       [0.        , 0.        , 0.        , 0.4641409 , 0.        ],\n",
       "       [0.        , 0.        , 0.20961389, 0.        , 0.        ],\n",
       "       [0.        , 0.05958767, 0.        , 0.48246414, 0.        ],\n",
       "       [0.        , 0.48592633, 0.17368735, 0.        , 0.        ]])"
      ]
     },
     "execution_count": 36,
     "metadata": {},
     "output_type": "execute_result"
    }
   ],
   "source": [
    "#element-wise functions\n",
    "def experiment(x):\n",
    "    if x > 0.5:\n",
    "        return 0\n",
    "    else:\n",
    "        return x\n",
    "\n",
    "vec_experiment = np.vectorize(experiment)\n",
    "vec_experiment(rand)"
   ]
  },
  {
   "cell_type": "code",
   "execution_count": 38,
   "id": "f40db710",
   "metadata": {
    "slideshow": {
     "slide_type": "fragment"
    }
   },
   "outputs": [
    {
     "data": {
      "text/plain": [
       "array([0.34459945, 0.82681635, 0.52643449, 0.71193571, 0.35536483,\n",
       "       0.56786557, 0.95809206, 0.82722953, 0.4641409 , 0.7204292 ,\n",
       "       0.71464374, 0.56560123, 0.20961389, 0.80060157, 0.94764907,\n",
       "       0.74431704, 0.05958767, 0.71268062, 0.48246414, 0.53426721,\n",
       "       0.74771348, 0.48592633, 0.17368735, 0.90328978, 0.55372856])"
      ]
     },
     "execution_count": 38,
     "metadata": {},
     "output_type": "execute_result"
    }
   ],
   "source": [
    "np.reshape(rand,(25,))"
   ]
  },
  {
   "cell_type": "markdown",
   "id": "116fb765",
   "metadata": {
    "slideshow": {
     "slide_type": "fragment"
    }
   },
   "source": [
    "And much much more!"
   ]
  },
  {
   "cell_type": "markdown",
   "id": "933cce55",
   "metadata": {
    "slideshow": {
     "slide_type": "slide"
    }
   },
   "source": [
    "### What if I want to see the numbers? "
   ]
  },
  {
   "cell_type": "markdown",
   "id": "ad6658f9",
   "metadata": {
    "slideshow": {
     "slide_type": "fragment"
    }
   },
   "source": [
    "why? to understand what's going on, and to make others understand..."
   ]
  },
  {
   "cell_type": "code",
   "execution_count": 44,
   "id": "3da7eafe",
   "metadata": {
    "slideshow": {
     "slide_type": "fragment"
    }
   },
   "outputs": [
    {
     "data": {
      "text/plain": [
       "Text(0.5, 1.0, 'We can see!')"
      ]
     },
     "execution_count": 44,
     "metadata": {},
     "output_type": "execute_result"
    },
    {
     "data": {
      "image/png": "[encoded data removed]",
      "text/plain": [
       "<Figure size 432x288 with 1 Axes>"
      ]
     },
     "metadata": {
      "needs_background": "light"
     },
     "output_type": "display_data"
    }
   ],
   "source": [
    "plt.imshow(np.random.rand(10,10))\n",
    "plt.title(\"We can see!\")"
   ]
  },
  {
   "cell_type": "code",
   "execution_count": 81,
   "id": "a1f7101f",
   "metadata": {
    "slideshow": {
     "slide_type": "slide"
    }
   },
   "outputs": [
    {
     "data": {
      "text/plain": [
       "[<matplotlib.lines.Line2D at 0x7faa72cf26d0>]"
      ]
     },
     "execution_count": 81,
     "metadata": {},
     "output_type": "execute_result"
    },
    {
     "data": {
      "image/png": "[encoded data removed]",
      "text/plain": [
       "<Figure size 432x288 with 1 Axes>"
      ]
     },
     "metadata": {
      "needs_background": "light"
     },
     "output_type": "display_data"
    }
   ],
   "source": [
    "x = np.array(np.arange(-9,10))\n",
    "def sigmoid(z):\n",
    "    return 1 / (1 + np.exp(-z))\n",
    "y = sigmoid(x)\n",
    "\n",
    "plt.plot(x,y)"
   ]
  },
  {
   "cell_type": "code",
   "execution_count": 82,
   "id": "9ef57690",
   "metadata": {
    "slideshow": {
     "slide_type": "slide"
    }
   },
   "outputs": [
    {
     "data": {
      "application/javascript": [
       "/* Put everything inside the global mpl namespace */\n",
       "/* global mpl */\n",
       "window.mpl = {};\n",
       "\n",
       "mpl.get_websocket_type = function () {\n",
       "    if (typeof WebSocket !== 'undefined') {\n",
       "        return WebSocket;\n",
       "    } else if (typeof MozWebSocket !== 'undefined') {\n",
       "        return MozWebSocket;\n",
       "    } else {\n",
       "        alert(\n",
       "            'Your browser does not have WebSocket support. ' +\n",
       "                'Please try Chrome, Safari or Firefox ≥ 6. ' +\n",
       "                'Firefox 4 and 5 are also supported but you ' +\n",
       "                'have to enable WebSockets in about:config.'\n",
       "        );\n",
       "    }\n",
       "};\n",
       "\n",
       "mpl.figure = function (figure_id, websocket, ondownload, parent_element) {\n",
       "    this.id = figure_id;\n",
       "\n",
       "    this.ws = websocket;\n",
       "\n",
       "    this.supports_binary = this.ws.binaryType !== undefined;\n",
       "\n",
       "    if (!this.supports_binary) {\n",
       "        var warnings = document.getElementById('mpl-warnings');\n",
       "        if (warnings) {\n",
       "            warnings.style.display = 'block';\n",
       "            warnings.textContent =\n",
       "                'This browser does not support binary websocket messages. ' +\n",
       "                'Performance may be slow.';\n",
       "        }\n",
       "    }\n",
       "\n",
       "    this.imageObj = new Image();\n",
       "\n",
       "    this.context = undefined;\n",
       "    this.message = undefined;\n",
       "    this.canvas = undefined;\n",
       "    this.rubberband_canvas = undefined;\n",
       "    this.rubberband_context = undefined;\n",
       "    this.format_dropdown = undefined;\n",
       "\n",
       "    this.image_mode = 'full';\n",
       "\n",
       "    this.root = document.createElement('div');\n",
       "    this.root.setAttribute('style', 'display: inline-block');\n",
       "    this._root_extra_style(this.root);\n",
       "\n",
       "    parent_element.appendChild(this.root);\n",
       "\n",
       "    this._init_header(this);\n",
       "    this._init_canvas(this);\n",
       "    this._init_toolbar(this);\n",
       "\n",
       "    var fig = this;\n",
       "\n",
       "    this.waiting = false;\n",
       "\n",
       "    this.ws.onopen = function () {\n",
       "        fig.send_message('supports_binary', { value: fig.supports_binary });\n",
       "        fig.send_message('send_image_mode', {});\n",
       "        if (fig.ratio !== 1) {\n",
       "            fig.send_message('set_device_pixel_ratio', {\n",
       "                device_pixel_ratio: fig.ratio,\n",
       "            });\n",
       "        }\n",
       "        fig.send_message('refresh', {});\n",
       "    };\n",
       "\n",
       "    this.imageObj.onload = function () {\n",
       "        if (fig.image_mode === 'full') {\n",
       "            // Full images could contain transparency (where diff images\n",
       "            // almost always do), so we need to clear the canvas so that\n",
       "            // there is no ghosting.\n",
       "            fig.context.clearRect(0, 0, fig.canvas.width, fig.canvas.height);\n",
       "        }\n",
       "        fig.context.drawImage(fig.imageObj, 0, 0);\n",
       "    };\n",
       "\n",
       "    this.imageObj.onunload = function () {\n",
       "        fig.ws.close();\n",
       "    };\n",
       "\n",
       "    this.ws.onmessage = this._make_on_message_function(this);\n",
       "\n",
       "    this.ondownload = ondownload;\n",
       "};\n",
       "\n",
       "mpl.figure.prototype._init_header = function () {\n",
       "    var titlebar = document.createElement('div');\n",
       "    titlebar.classList =\n",
       "        'ui-dialog-titlebar ui-widget-header ui-corner-all ui-helper-clearfix';\n",
       "    var titletext = document.createElement('div');\n",
       "    titletext.classList = 'ui-dialog-title';\n",
       "    titletext.setAttribute(\n",
       "        'style',\n",
       "        'width: 100%; text-align: center; padding: 3px;'\n",
       "    );\n",
       "    titlebar.appendChild(titletext);\n",
       "    this.root.appendChild(titlebar);\n",
       "    this.header = titletext;\n",
       "};\n",
       "\n",
       "mpl.figure.prototype._canvas_extra_style = function (_canvas_div) {};\n",
       "\n",
       "mpl.figure.prototype._root_extra_style = function (_canvas_div) {};\n",
       "\n",
       "mpl.figure.prototype._init_canvas = function () {\n",
       "    var fig = this;\n",
       "\n",
       "    var canvas_div = (this.canvas_div = document.createElement('div'));\n",
       "    canvas_div.setAttribute(\n",
       "        'style',\n",
       "        'border: 1px solid #ddd;' +\n",
       "            'box-sizing: content-box;' +\n",
       "            'clear: both;' +\n",
       "            'min-height: 1px;' +\n",
       "            'min-width: 1px;' +\n",
       "            'outline: 0;' +\n",
       "            'overflow: hidden;' +\n",
       "            'position: relative;' +\n",
       "            'resize: both;'\n",
       "    );\n",
       "\n",
       "    function on_keyboard_event_closure(name) {\n",
       "        return function (event) {\n",
       "            return fig.key_event(event, name);\n",
       "        };\n",
       "    }\n",
       "\n",
       "    canvas_div.addEventListener(\n",
       "        'keydown',\n",
       "        on_keyboard_event_closure('key_press')\n",
       "    );\n",
       "    canvas_div.addEventListener(\n",
       "        'keyup',\n",
       "        on_keyboard_event_closure('key_release')\n",
       "    );\n",
       "\n",
       "    this._canvas_extra_style(canvas_div);\n",
       "    this.root.appendChild(canvas_div);\n",
       "\n",
       "    var canvas = (this.canvas = document.createElement('canvas'));\n",
       "    canvas.classList.add('mpl-canvas');\n",
       "    canvas.setAttribute('style', 'box-sizing: content-box;');\n",
       "\n",
       "    this.context = canvas.getContext('2d');\n",
       "\n",
       "    var backingStore =\n",
       "        this.context.backingStorePixelRatio ||\n",
       "        this.context.webkitBackingStorePixelRatio ||\n",
       "        this.context.mozBackingStorePixelRatio ||\n",
       "        this.context.msBackingStorePixelRatio ||\n",
       "        this.context.oBackingStorePixelRatio ||\n",
       "        this.context.backingStorePixelRatio ||\n",
       "        1;\n",
       "\n",
       "    this.ratio = (window.devicePixelRatio || 1) / backingStore;\n",
       "\n",
       "    var rubberband_canvas = (this.rubberband_canvas = document.createElement(\n",
       "        'canvas'\n",
       "    ));\n",
       "    rubberband_canvas.setAttribute(\n",
       "        'style',\n",
       "        'box-sizing: content-box; position: absolute; left: 0; top: 0; z-index: 1;'\n",
       "    );\n",
       "\n",
       "    // Apply a ponyfill if ResizeObserver is not implemented by browser.\n",
       "    if (this.ResizeObserver === undefined) {\n",
       "        if (window.ResizeObserver !== undefined) {\n",
       "            this.ResizeObserver = window.ResizeObserver;\n",
       "        } else {\n",
       "            var obs = _JSXTOOLS_RESIZE_OBSERVER({});\n",
       "            this.ResizeObserver = obs.ResizeObserver;\n",
       "        }\n",
       "    }\n",
       "\n",
       "    this.resizeObserverInstance = new this.ResizeObserver(function (entries) {\n",
       "        var nentries = entries.length;\n",
       "        for (var i = 0; i < nentries; i++) {\n",
       "            var entry = entries[i];\n",
       "            var width, height;\n",
       "            if (entry.contentBoxSize) {\n",
       "                if (entry.contentBoxSize instanceof Array) {\n",
       "                    // Chrome 84 implements new version of spec.\n",
       "                    width = entry.contentBoxSize[0].inlineSize;\n",
       "                    height = entry.contentBoxSize[0].blockSize;\n",
       "                } else {\n",
       "                    // Firefox implements old version of spec.\n",
       "                    width = entry.contentBoxSize.inlineSize;\n",
       "                    height = entry.contentBoxSize.blockSize;\n",
       "                }\n",
       "            } else {\n",
       "                // Chrome <84 implements even older version of spec.\n",
       "                width = entry.contentRect.width;\n",
       "                height = entry.contentRect.height;\n",
       "            }\n",
       "\n",
       "            // Keep the size of the canvas and rubber band canvas in sync with\n",
       "            // the canvas container.\n",
       "            if (entry.devicePixelContentBoxSize) {\n",
       "                // Chrome 84 implements new version of spec.\n",
       "                canvas.setAttribute(\n",
       "                    'width',\n",
       "                    entry.devicePixelContentBoxSize[0].inlineSize\n",
       "                );\n",
       "                canvas.setAttribute(\n",
       "                    'height',\n",
       "                    entry.devicePixelContentBoxSize[0].blockSize\n",
       "                );\n",
       "            } else {\n",
       "                canvas.setAttribute('width', width * fig.ratio);\n",
       "                canvas.setAttribute('height', height * fig.ratio);\n",
       "            }\n",
       "            canvas.setAttribute(\n",
       "                'style',\n",
       "                'width: ' + width + 'px; height: ' + height + 'px;'\n",
       "            );\n",
       "\n",
       "            rubberband_canvas.setAttribute('width', width);\n",
       "            rubberband_canvas.setAttribute('height', height);\n",
       "\n",
       "            // And update the size in Python. We ignore the initial 0/0 size\n",
       "            // that occurs as the element is placed into the DOM, which should\n",
       "            // otherwise not happen due to the minimum size styling.\n",
       "            if (fig.ws.readyState == 1 && width != 0 && height != 0) {\n",
       "                fig.request_resize(width, height);\n",
       "            }\n",
       "        }\n",
       "    });\n",
       "    this.resizeObserverInstance.observe(canvas_div);\n",
       "\n",
       "    function on_mouse_event_closure(name) {\n",
       "        return function (event) {\n",
       "            return fig.mouse_event(event, name);\n",
       "        };\n",
       "    }\n",
       "\n",
       "    rubberband_canvas.addEventListener(\n",
       "        'mousedown',\n",
       "        on_mouse_event_closure('button_press')\n",
       "    );\n",
       "    rubberband_canvas.addEventListener(\n",
       "        'mouseup',\n",
       "        on_mouse_event_closure('button_release')\n",
       "    );\n",
       "    rubberband_canvas.addEventListener(\n",
       "        'dblclick',\n",
       "        on_mouse_event_closure('dblclick')\n",
       "    );\n",
       "    // Throttle sequential mouse events to 1 every 20ms.\n",
       "    rubberband_canvas.addEventListener(\n",
       "        'mousemove',\n",
       "        on_mouse_event_closure('motion_notify')\n",
       "    );\n",
       "\n",
       "    rubberband_canvas.addEventListener(\n",
       "        'mouseenter',\n",
       "        on_mouse_event_closure('figure_enter')\n",
       "    );\n",
       "    rubberband_canvas.addEventListener(\n",
       "        'mouseleave',\n",
       "        on_mouse_event_closure('figure_leave')\n",
       "    );\n",
       "\n",
       "    canvas_div.addEventListener('wheel', function (event) {\n",
       "        if (event.deltaY < 0) {\n",
       "            event.step = 1;\n",
       "        } else {\n",
       "            event.step = -1;\n",
       "        }\n",
       "        on_mouse_event_closure('scroll')(event);\n",
       "    });\n",
       "\n",
       "    canvas_div.appendChild(canvas);\n",
       "    canvas_div.appendChild(rubberband_canvas);\n",
       "\n",
       "    this.rubberband_context = rubberband_canvas.getContext('2d');\n",
       "    this.rubberband_context.strokeStyle = '#000000';\n",
       "\n",
       "    this._resize_canvas = function (width, height, forward) {\n",
       "        if (forward) {\n",
       "            canvas_div.style.width = width + 'px';\n",
       "            canvas_div.style.height = height + 'px';\n",
       "        }\n",
       "    };\n",
       "\n",
       "    // Disable right mouse context menu.\n",
       "    this.rubberband_canvas.addEventListener('contextmenu', function (_e) {\n",
       "        event.preventDefault();\n",
       "        return false;\n",
       "    });\n",
       "\n",
       "    function set_focus() {\n",
       "        canvas.focus();\n",
       "        canvas_div.focus();\n",
       "    }\n",
       "\n",
       "    window.setTimeout(set_focus, 100);\n",
       "};\n",
       "\n",
       "mpl.figure.prototype._init_toolbar = function () {\n",
       "    var fig = this;\n",
       "\n",
       "    var toolbar = document.createElement('div');\n",
       "    toolbar.classList = 'mpl-toolbar';\n",
       "    this.root.appendChild(toolbar);\n",
       "\n",
       "    function on_click_closure(name) {\n",
       "        return function (_event) {\n",
       "            return fig.toolbar_button_onclick(name);\n",
       "        };\n",
       "    }\n",
       "\n",
       "    function on_mouseover_closure(tooltip) {\n",
       "        return function (event) {\n",
       "            if (!event.currentTarget.disabled) {\n",
       "                return fig.toolbar_button_onmouseover(tooltip);\n",
       "            }\n",
       "        };\n",
       "    }\n",
       "\n",
       "    fig.buttons = {};\n",
       "    var buttonGroup = document.createElement('div');\n",
       "    buttonGroup.classList = 'mpl-button-group';\n",
       "    for (var toolbar_ind in mpl.toolbar_items) {\n",
       "        var name = mpl.toolbar_items[toolbar_ind][0];\n",
       "        var tooltip = mpl.toolbar_items[toolbar_ind][1];\n",
       "        var image = mpl.toolbar_items[toolbar_ind][2];\n",
       "        var method_name = mpl.toolbar_items[toolbar_ind][3];\n",
       "\n",
       "        if (!name) {\n",
       "            /* Instead of a spacer, we start a new button group. */\n",
       "            if (buttonGroup.hasChildNodes()) {\n",
       "                toolbar.appendChild(buttonGroup);\n",
       "            }\n",
       "            buttonGroup = document.createElement('div');\n",
       "            buttonGroup.classList = 'mpl-button-group';\n",
       "            continue;\n",
       "        }\n",
       "\n",
       "        var button = (fig.buttons[name] = document.createElement('button'));\n",
       "        button.classList = 'mpl-widget';\n",
       "        button.setAttribute('role', 'button');\n",
       "        button.setAttribute('aria-disabled', 'false');\n",
       "        button.addEventListener('click', on_click_closure(method_name));\n",
       "        button.addEventListener('mouseover', on_mouseover_closure(tooltip));\n",
       "\n",
       "        var icon_img = document.createElement('img');\n",
       "        icon_img.src = '_images/' + image + '.png';\n",
       "        icon_img.srcset = '_images/' + image + '_large.png 2x';\n",
       "        icon_img.alt = tooltip;\n",
       "        button.appendChild(icon_img);\n",
       "\n",
       "        buttonGroup.appendChild(button);\n",
       "    }\n",
       "\n",
       "    if (buttonGroup.hasChildNodes()) {\n",
       "        toolbar.appendChild(buttonGroup);\n",
       "    }\n",
       "\n",
       "    var fmt_picker = document.createElement('select');\n",
       "    fmt_picker.classList = 'mpl-widget';\n",
       "    toolbar.appendChild(fmt_picker);\n",
       "    this.format_dropdown = fmt_picker;\n",
       "\n",
       "    for (var ind in mpl.extensions) {\n",
       "        var fmt = mpl.extensions[ind];\n",
       "        var option = document.createElement('option');\n",
       "        option.selected = fmt === mpl.default_extension;\n",
       "        option.innerHTML = fmt;\n",
       "        fmt_picker.appendChild(option);\n",
       "    }\n",
       "\n",
       "    var status_bar = document.createElement('span');\n",
       "    status_bar.classList = 'mpl-message';\n",
       "    toolbar.appendChild(status_bar);\n",
       "    this.message = status_bar;\n",
       "};\n",
       "\n",
       "mpl.figure.prototype.request_resize = function (x_pixels, y_pixels) {\n",
       "    // Request matplotlib to resize the figure. Matplotlib will then trigger a resize in the client,\n",
       "    // which will in turn request a refresh of the image.\n",
       "    this.send_message('resize', { width: x_pixels, height: y_pixels });\n",
       "};\n",
       "\n",
       "mpl.figure.prototype.send_message = function (type, properties) {\n",
       "    properties['type'] = type;\n",
       "    properties['figure_id'] = this.id;\n",
       "    this.ws.send(JSON.stringify(properties));\n",
       "};\n",
       "\n",
       "mpl.figure.prototype.send_draw_message = function () {\n",
       "    if (!this.waiting) {\n",
       "        this.waiting = true;\n",
       "        this.ws.send(JSON.stringify({ type: 'draw', figure_id: this.id }));\n",
       "    }\n",
       "};\n",
       "\n",
       "mpl.figure.prototype.handle_save = function (fig, _msg) {\n",
       "    var format_dropdown = fig.format_dropdown;\n",
       "    var format = format_dropdown.options[format_dropdown.selectedIndex].value;\n",
       "    fig.ondownload(fig, format);\n",
       "};\n",
       "\n",
       "mpl.figure.prototype.handle_resize = function (fig, msg) {\n",
       "    var size = msg['size'];\n",
       "    if (size[0] !== fig.canvas.width || size[1] !== fig.canvas.height) {\n",
       "        fig._resize_canvas(size[0], size[1], msg['forward']);\n",
       "        fig.send_message('refresh', {});\n",
       "    }\n",
       "};\n",
       "\n",
       "mpl.figure.prototype.handle_rubberband = function (fig, msg) {\n",
       "    var x0 = msg['x0'] / fig.ratio;\n",
       "    var y0 = (fig.canvas.height - msg['y0']) / fig.ratio;\n",
       "    var x1 = msg['x1'] / fig.ratio;\n",
       "    var y1 = (fig.canvas.height - msg['y1']) / fig.ratio;\n",
       "    x0 = Math.floor(x0) + 0.5;\n",
       "    y0 = Math.floor(y0) + 0.5;\n",
       "    x1 = Math.floor(x1) + 0.5;\n",
       "    y1 = Math.floor(y1) + 0.5;\n",
       "    var min_x = Math.min(x0, x1);\n",
       "    var min_y = Math.min(y0, y1);\n",
       "    var width = Math.abs(x1 - x0);\n",
       "    var height = Math.abs(y1 - y0);\n",
       "\n",
       "    fig.rubberband_context.clearRect(\n",
       "        0,\n",
       "        0,\n",
       "        fig.canvas.width / fig.ratio,\n",
       "        fig.canvas.height / fig.ratio\n",
       "    );\n",
       "\n",
       "    fig.rubberband_context.strokeRect(min_x, min_y, width, height);\n",
       "};\n",
       "\n",
       "mpl.figure.prototype.handle_figure_label = function (fig, msg) {\n",
       "    // Updates the figure title.\n",
       "    fig.header.textContent = msg['label'];\n",
       "};\n",
       "\n",
       "mpl.figure.prototype.handle_cursor = function (fig, msg) {\n",
       "    fig.rubberband_canvas.style.cursor = msg['cursor'];\n",
       "};\n",
       "\n",
       "mpl.figure.prototype.handle_message = function (fig, msg) {\n",
       "    fig.message.textContent = msg['message'];\n",
       "};\n",
       "\n",
       "mpl.figure.prototype.handle_draw = function (fig, _msg) {\n",
       "    // Request the server to send over a new figure.\n",
       "    fig.send_draw_message();\n",
       "};\n",
       "\n",
       "mpl.figure.prototype.handle_image_mode = function (fig, msg) {\n",
       "    fig.image_mode = msg['mode'];\n",
       "};\n",
       "\n",
       "mpl.figure.prototype.handle_history_buttons = function (fig, msg) {\n",
       "    for (var key in msg) {\n",
       "        if (!(key in fig.buttons)) {\n",
       "            continue;\n",
       "        }\n",
       "        fig.buttons[key].disabled = !msg[key];\n",
       "        fig.buttons[key].setAttribute('aria-disabled', !msg[key]);\n",
       "    }\n",
       "};\n",
       "\n",
       "mpl.figure.prototype.handle_navigate_mode = function (fig, msg) {\n",
       "    if (msg['mode'] === 'PAN') {\n",
       "        fig.buttons['Pan'].classList.add('active');\n",
       "        fig.buttons['Zoom'].classList.remove('active');\n",
       "    } else if (msg['mode'] === 'ZOOM') {\n",
       "        fig.buttons['Pan'].classList.remove('active');\n",
       "        fig.buttons['Zoom'].classList.add('active');\n",
       "    } else {\n",
       "        fig.buttons['Pan'].classList.remove('active');\n",
       "        fig.buttons['Zoom'].classList.remove('active');\n",
       "    }\n",
       "};\n",
       "\n",
       "mpl.figure.prototype.updated_canvas_event = function () {\n",
       "    // Called whenever the canvas gets updated.\n",
       "    this.send_message('ack', {});\n",
       "};\n",
       "\n",
       "// A function to construct a web socket function for onmessage handling.\n",
       "// Called in the figure constructor.\n",
       "mpl.figure.prototype._make_on_message_function = function (fig) {\n",
       "    return function socket_on_message(evt) {\n",
       "        if (evt.data instanceof Blob) {\n",
       "            var img = evt.data;\n",
       "            if (img.type !== 'image/png') {\n",
       "                /* FIXME: We get \"Resource interpreted as Image but\n",
       "                 * transferred with MIME type text/plain:\" errors on\n",
       "                 * Chrome.  But how to set the MIME type?  It doesn't seem\n",
       "                 * to be part of the websocket stream */\n",
       "                img.type = 'image/png';\n",
       "            }\n",
       "\n",
       "            /* Free the memory for the previous frames */\n",
       "            if (fig.imageObj.src) {\n",
       "                (window.URL || window.webkitURL).revokeObjectURL(\n",
       "                    fig.imageObj.src\n",
       "                );\n",
       "            }\n",
       "\n",
       "            fig.imageObj.src = (window.URL || window.webkitURL).createObjectURL(\n",
       "                img\n",
       "            );\n",
       "            fig.updated_canvas_event();\n",
       "            fig.waiting = false;\n",
       "            return;\n",
       "        } else if (\n",
       "            typeof evt.data === 'string' &&\n",
       "            evt.data.slice(0, 21) === 'data:image/png;base64'\n",
       "        ) {\n",
       "            fig.imageObj.src = evt.data;\n",
       "            fig.updated_canvas_event();\n",
       "            fig.waiting = false;\n",
       "            return;\n",
       "        }\n",
       "\n",
       "        var msg = JSON.parse(evt.data);\n",
       "        var msg_type = msg['type'];\n",
       "\n",
       "        // Call the  \"handle_{type}\" callback, which takes\n",
       "        // the figure and JSON message as its only arguments.\n",
       "        try {\n",
       "            var callback = fig['handle_' + msg_type];\n",
       "        } catch (e) {\n",
       "            console.log(\n",
       "                \"No handler for the '\" + msg_type + \"' message type: \",\n",
       "                msg\n",
       "            );\n",
       "            return;\n",
       "        }\n",
       "\n",
       "        if (callback) {\n",
       "            try {\n",
       "                // console.log(\"Handling '\" + msg_type + \"' message: \", msg);\n",
       "                callback(fig, msg);\n",
       "            } catch (e) {\n",
       "                console.log(\n",
       "                    \"Exception inside the 'handler_\" + msg_type + \"' callback:\",\n",
       "                    e,\n",
       "                    e.stack,\n",
       "                    msg\n",
       "                );\n",
       "            }\n",
       "        }\n",
       "    };\n",
       "};\n",
       "\n",
       "// from https://stackoverflow.com/questions/1114465/getting-mouse-location-in-canvas\n",
       "mpl.findpos = function (e) {\n",
       "    //this section is from http://www.quirksmode.org/js/events_properties.html\n",
       "    var targ;\n",
       "    if (!e) {\n",
       "        e = window.event;\n",
       "    }\n",
       "    if (e.target) {\n",
       "        targ = e.target;\n",
       "    } else if (e.srcElement) {\n",
       "        targ = e.srcElement;\n",
       "    }\n",
       "    if (targ.nodeType === 3) {\n",
       "        // defeat Safari bug\n",
       "        targ = targ.parentNode;\n",
       "    }\n",
       "\n",
       "    // pageX,Y are the mouse positions relative to the document\n",
       "    var boundingRect = targ.getBoundingClientRect();\n",
       "    var x = e.pageX - (boundingRect.left + document.body.scrollLeft);\n",
       "    var y = e.pageY - (boundingRect.top + document.body.scrollTop);\n",
       "\n",
       "    return { x: x, y: y };\n",
       "};\n",
       "\n",
       "/*\n",
       " * return a copy of an object with only non-object keys\n",
       " * we need this to avoid circular references\n",
       " * https://stackoverflow.com/a/24161582/3208463\n",
       " */\n",
       "function simpleKeys(original) {\n",
       "    return Object.keys(original).reduce(function (obj, key) {\n",
       "        if (typeof original[key] !== 'object') {\n",
       "            obj[key] = original[key];\n",
       "        }\n",
       "        return obj;\n",
       "    }, {});\n",
       "}\n",
       "\n",
       "mpl.figure.prototype.mouse_event = function (event, name) {\n",
       "    var canvas_pos = mpl.findpos(event);\n",
       "\n",
       "    if (name === 'button_press') {\n",
       "        this.canvas.focus();\n",
       "        this.canvas_div.focus();\n",
       "    }\n",
       "\n",
       "    var x = canvas_pos.x * this.ratio;\n",
       "    var y = canvas_pos.y * this.ratio;\n",
       "\n",
       "    this.send_message(name, {\n",
       "        x: x,\n",
       "        y: y,\n",
       "        button: event.button,\n",
       "        step: event.step,\n",
       "        guiEvent: simpleKeys(event),\n",
       "    });\n",
       "\n",
       "    /* This prevents the web browser from automatically changing to\n",
       "     * the text insertion cursor when the button is pressed.  We want\n",
       "     * to control all of the cursor setting manually through the\n",
       "     * 'cursor' event from matplotlib */\n",
       "    event.preventDefault();\n",
       "    return false;\n",
       "};\n",
       "\n",
       "mpl.figure.prototype._key_event_extra = function (_event, _name) {\n",
       "    // Handle any extra behaviour associated with a key event\n",
       "};\n",
       "\n",
       "mpl.figure.prototype.key_event = function (event, name) {\n",
       "    // Prevent repeat events\n",
       "    if (name === 'key_press') {\n",
       "        if (event.key === this._key) {\n",
       "            return;\n",
       "        } else {\n",
       "            this._key = event.key;\n",
       "        }\n",
       "    }\n",
       "    if (name === 'key_release') {\n",
       "        this._key = null;\n",
       "    }\n",
       "\n",
       "    var value = '';\n",
       "    if (event.ctrlKey && event.key !== 'Control') {\n",
       "        value += 'ctrl+';\n",
       "    }\n",
       "    else if (event.altKey && event.key !== 'Alt') {\n",
       "        value += 'alt+';\n",
       "    }\n",
       "    else if (event.shiftKey && event.key !== 'Shift') {\n",
       "        value += 'shift+';\n",
       "    }\n",
       "\n",
       "    value += 'k' + event.key;\n",
       "\n",
       "    this._key_event_extra(event, name);\n",
       "\n",
       "    this.send_message(name, { key: value, guiEvent: simpleKeys(event) });\n",
       "    return false;\n",
       "};\n",
       "\n",
       "mpl.figure.prototype.toolbar_button_onclick = function (name) {\n",
       "    if (name === 'download') {\n",
       "        this.handle_save(this, null);\n",
       "    } else {\n",
       "        this.send_message('toolbar_button', { name: name });\n",
       "    }\n",
       "};\n",
       "\n",
       "mpl.figure.prototype.toolbar_button_onmouseover = function (tooltip) {\n",
       "    this.message.textContent = tooltip;\n",
       "};\n",
       "\n",
       "///////////////// REMAINING CONTENT GENERATED BY embed_js.py /////////////////\n",
       "// prettier-ignore\n",
       "var _JSXTOOLS_RESIZE_OBSERVER=function(A){var t,i=new WeakMap,n=new WeakMap,a=new WeakMap,r=new WeakMap,o=new Set;function s(e){if(!(this instanceof s))throw new TypeError(\"Constructor requires 'new' operator\");i.set(this,e)}function h(){throw new TypeError(\"Function is not a constructor\")}function c(e,t,i,n){e=0 in arguments?Number(arguments[0]):0,t=1 in arguments?Number(arguments[1]):0,i=2 in arguments?Number(arguments[2]):0,n=3 in arguments?Number(arguments[3]):0,this.right=(this.x=this.left=e)+(this.width=i),this.bottom=(this.y=this.top=t)+(this.height=n),Object.freeze(this)}function d(){t=requestAnimationFrame(d);var s=new WeakMap,p=new Set;o.forEach((function(t){r.get(t).forEach((function(i){var r=t instanceof window.SVGElement,o=a.get(t),d=r?0:parseFloat(o.paddingTop),f=r?0:parseFloat(o.paddingRight),l=r?0:parseFloat(o.paddingBottom),u=r?0:parseFloat(o.paddingLeft),g=r?0:parseFloat(o.borderTopWidth),m=r?0:parseFloat(o.borderRightWidth),w=r?0:parseFloat(o.borderBottomWidth),b=u+f,F=d+l,v=(r?0:parseFloat(o.borderLeftWidth))+m,W=g+w,y=r?0:t.offsetHeight-W-t.clientHeight,E=r?0:t.offsetWidth-v-t.clientWidth,R=b+v,z=F+W,M=r?t.width:parseFloat(o.width)-R-E,O=r?t.height:parseFloat(o.height)-z-y;if(n.has(t)){var k=n.get(t);if(k[0]===M&&k[1]===O)return}n.set(t,[M,O]);var S=Object.create(h.prototype);S.target=t,S.contentRect=new c(u,d,M,O),s.has(i)||(s.set(i,[]),p.add(i)),s.get(i).push(S)}))})),p.forEach((function(e){i.get(e).call(e,s.get(e),e)}))}return s.prototype.observe=function(i){if(i instanceof window.Element){r.has(i)||(r.set(i,new Set),o.add(i),a.set(i,window.getComputedStyle(i)));var n=r.get(i);n.has(this)||n.add(this),cancelAnimationFrame(t),t=requestAnimationFrame(d)}},s.prototype.unobserve=function(i){if(i instanceof window.Element&&r.has(i)){var n=r.get(i);n.has(this)&&(n.delete(this),n.size||(r.delete(i),o.delete(i))),n.size||r.delete(i),o.size||cancelAnimationFrame(t)}},A.DOMRectReadOnly=c,A.ResizeObserver=s,A.ResizeObserverEntry=h,A}; // eslint-disable-line\n",
       "mpl.toolbar_items = [[\"Home\", \"Reset original view\", \"fa fa-home icon-home\", \"home\"], [\"Back\", \"Back to previous view\", \"fa fa-arrow-left icon-arrow-left\", \"back\"], [\"Forward\", \"Forward to next view\", \"fa fa-arrow-right icon-arrow-right\", \"forward\"], [\"\", \"\", \"\", \"\"], [\"Pan\", \"Left button pans, Right button zooms\\nx/y fixes axis, CTRL fixes aspect\", \"fa fa-arrows icon-move\", \"pan\"], [\"Zoom\", \"Zoom to rectangle\\nx/y fixes axis\", \"fa fa-square-o icon-check-empty\", \"zoom\"], [\"\", \"\", \"\", \"\"], [\"Download\", \"Download plot\", \"fa fa-floppy-o icon-save\", \"download\"]];\n",
       "\n",
       "mpl.extensions = [\"eps\", \"jpeg\", \"pgf\", \"pdf\", \"png\", \"ps\", \"raw\", \"svg\", \"tif\"];\n",
       "\n",
       "mpl.default_extension = \"png\";/* global mpl */\n",
       "\n",
       "var comm_websocket_adapter = function (comm) {\n",
       "    // Create a \"websocket\"-like object which calls the given IPython comm\n",
       "    // object with the appropriate methods. Currently this is a non binary\n",
       "    // socket, so there is still some room for performance tuning.\n",
       "    var ws = {};\n",
       "\n",
       "    ws.binaryType = comm.kernel.ws.binaryType;\n",
       "    ws.readyState = comm.kernel.ws.readyState;\n",
       "    function updateReadyState(_event) {\n",
       "        if (comm.kernel.ws) {\n",
       "            ws.readyState = comm.kernel.ws.readyState;\n",
       "        } else {\n",
       "            ws.readyState = 3; // Closed state.\n",
       "        }\n",
       "    }\n",
       "    comm.kernel.ws.addEventListener('open', updateReadyState);\n",
       "    comm.kernel.ws.addEventListener('close', updateReadyState);\n",
       "    comm.kernel.ws.addEventListener('error', updateReadyState);\n",
       "\n",
       "    ws.close = function () {\n",
       "        comm.close();\n",
       "    };\n",
       "    ws.send = function (m) {\n",
       "        //console.log('sending', m);\n",
       "        comm.send(m);\n",
       "    };\n",
       "    // Register the callback with on_msg.\n",
       "    comm.on_msg(function (msg) {\n",
       "        //console.log('receiving', msg['content']['data'], msg);\n",
       "        var data = msg['content']['data'];\n",
       "        if (data['blob'] !== undefined) {\n",
       "            data = {\n",
       "                data: new Blob(msg['buffers'], { type: data['blob'] }),\n",
       "            };\n",
       "        }\n",
       "        // Pass the mpl event to the overridden (by mpl) onmessage function.\n",
       "        ws.onmessage(data);\n",
       "    });\n",
       "    return ws;\n",
       "};\n",
       "\n",
       "mpl.mpl_figure_comm = function (comm, msg) {\n",
       "    // This is the function which gets called when the mpl process\n",
       "    // starts-up an IPython Comm through the \"matplotlib\" channel.\n",
       "\n",
       "    var id = msg.content.data.id;\n",
       "    // Get hold of the div created by the display call when the Comm\n",
       "    // socket was opened in Python.\n",
       "    var element = document.getElementById(id);\n",
       "    var ws_proxy = comm_websocket_adapter(comm);\n",
       "\n",
       "    function ondownload(figure, _format) {\n",
       "        window.open(figure.canvas.toDataURL());\n",
       "    }\n",
       "\n",
       "    var fig = new mpl.figure(id, ws_proxy, ondownload, element);\n",
       "\n",
       "    // Call onopen now - mpl needs it, as it is assuming we've passed it a real\n",
       "    // web socket which is closed, not our websocket->open comm proxy.\n",
       "    ws_proxy.onopen();\n",
       "\n",
       "    fig.parent_element = element;\n",
       "    fig.cell_info = mpl.find_output_cell(\"<div id='\" + id + \"'></div>\");\n",
       "    if (!fig.cell_info) {\n",
       "        console.error('Failed to find cell for figure', id, fig);\n",
       "        return;\n",
       "    }\n",
       "    fig.cell_info[0].output_area.element.on(\n",
       "        'cleared',\n",
       "        { fig: fig },\n",
       "        fig._remove_fig_handler\n",
       "    );\n",
       "};\n",
       "\n",
       "mpl.figure.prototype.handle_close = function (fig, msg) {\n",
       "    var width = fig.canvas.width / fig.ratio;\n",
       "    fig.cell_info[0].output_area.element.off(\n",
       "        'cleared',\n",
       "        fig._remove_fig_handler\n",
       "    );\n",
       "    fig.resizeObserverInstance.unobserve(fig.canvas_div);\n",
       "\n",
       "    // Update the output cell to use the data from the current canvas.\n",
       "    fig.push_to_output();\n",
       "    var dataURL = fig.canvas.toDataURL();\n",
       "    // Re-enable the keyboard manager in IPython - without this line, in FF,\n",
       "    // the notebook keyboard shortcuts fail.\n",
       "    IPython.keyboard_manager.enable();\n",
       "    fig.parent_element.innerHTML =\n",
       "        '<img src=\"' + dataURL + '\" width=\"' + width + '\">';\n",
       "    fig.close_ws(fig, msg);\n",
       "};\n",
       "\n",
       "mpl.figure.prototype.close_ws = function (fig, msg) {\n",
       "    fig.send_message('closing', msg);\n",
       "    // fig.ws.close()\n",
       "};\n",
       "\n",
       "mpl.figure.prototype.push_to_output = function (_remove_interactive) {\n",
       "    // Turn the data on the canvas into data in the output cell.\n",
       "    var width = this.canvas.width / this.ratio;\n",
       "    var dataURL = this.canvas.toDataURL();\n",
       "    this.cell_info[1]['text/html'] =\n",
       "        '<img src=\"' + dataURL + '\" width=\"' + width + '\">';\n",
       "};\n",
       "\n",
       "mpl.figure.prototype.updated_canvas_event = function () {\n",
       "    // Tell IPython that the notebook contents must change.\n",
       "    IPython.notebook.set_dirty(true);\n",
       "    this.send_message('ack', {});\n",
       "    var fig = this;\n",
       "    // Wait a second, then push the new image to the DOM so\n",
       "    // that it is saved nicely (might be nice to debounce this).\n",
       "    setTimeout(function () {\n",
       "        fig.push_to_output();\n",
       "    }, 1000);\n",
       "};\n",
       "\n",
       "mpl.figure.prototype._init_toolbar = function () {\n",
       "    var fig = this;\n",
       "\n",
       "    var toolbar = document.createElement('div');\n",
       "    toolbar.classList = 'btn-toolbar';\n",
       "    this.root.appendChild(toolbar);\n",
       "\n",
       "    function on_click_closure(name) {\n",
       "        return function (_event) {\n",
       "            return fig.toolbar_button_onclick(name);\n",
       "        };\n",
       "    }\n",
       "\n",
       "    function on_mouseover_closure(tooltip) {\n",
       "        return function (event) {\n",
       "            if (!event.currentTarget.disabled) {\n",
       "                return fig.toolbar_button_onmouseover(tooltip);\n",
       "            }\n",
       "        };\n",
       "    }\n",
       "\n",
       "    fig.buttons = {};\n",
       "    var buttonGroup = document.createElement('div');\n",
       "    buttonGroup.classList = 'btn-group';\n",
       "    var button;\n",
       "    for (var toolbar_ind in mpl.toolbar_items) {\n",
       "        var name = mpl.toolbar_items[toolbar_ind][0];\n",
       "        var tooltip = mpl.toolbar_items[toolbar_ind][1];\n",
       "        var image = mpl.toolbar_items[toolbar_ind][2];\n",
       "        var method_name = mpl.toolbar_items[toolbar_ind][3];\n",
       "\n",
       "        if (!name) {\n",
       "            /* Instead of a spacer, we start a new button group. */\n",
       "            if (buttonGroup.hasChildNodes()) {\n",
       "                toolbar.appendChild(buttonGroup);\n",
       "            }\n",
       "            buttonGroup = document.createElement('div');\n",
       "            buttonGroup.classList = 'btn-group';\n",
       "            continue;\n",
       "        }\n",
       "\n",
       "        button = fig.buttons[name] = document.createElement('button');\n",
       "        button.classList = 'btn btn-default';\n",
       "        button.href = '#';\n",
       "        button.title = name;\n",
       "        button.innerHTML = '<i class=\"fa ' + image + ' fa-lg\"></i>';\n",
       "        button.addEventListener('click', on_click_closure(method_name));\n",
       "        button.addEventListener('mouseover', on_mouseover_closure(tooltip));\n",
       "        buttonGroup.appendChild(button);\n",
       "    }\n",
       "\n",
       "    if (buttonGroup.hasChildNodes()) {\n",
       "        toolbar.appendChild(buttonGroup);\n",
       "    }\n",
       "\n",
       "    // Add the status bar.\n",
       "    var status_bar = document.createElement('span');\n",
       "    status_bar.classList = 'mpl-message pull-right';\n",
       "    toolbar.appendChild(status_bar);\n",
       "    this.message = status_bar;\n",
       "\n",
       "    // Add the close button to the window.\n",
       "    var buttongrp = document.createElement('div');\n",
       "    buttongrp.classList = 'btn-group inline pull-right';\n",
       "    button = document.createElement('button');\n",
       "    button.classList = 'btn btn-mini btn-primary';\n",
       "    button.href = '#';\n",
       "    button.title = 'Stop Interaction';\n",
       "    button.innerHTML = '<i class=\"fa fa-power-off icon-remove icon-large\"></i>';\n",
       "    button.addEventListener('click', function (_evt) {\n",
       "        fig.handle_close(fig, {});\n",
       "    });\n",
       "    button.addEventListener(\n",
       "        'mouseover',\n",
       "        on_mouseover_closure('Stop Interaction')\n",
       "    );\n",
       "    buttongrp.appendChild(button);\n",
       "    var titlebar = this.root.querySelector('.ui-dialog-titlebar');\n",
       "    titlebar.insertBefore(buttongrp, titlebar.firstChild);\n",
       "};\n",
       "\n",
       "mpl.figure.prototype._remove_fig_handler = function (event) {\n",
       "    var fig = event.data.fig;\n",
       "    if (event.target !== this) {\n",
       "        // Ignore bubbled events from children.\n",
       "        return;\n",
       "    }\n",
       "    fig.close_ws(fig, {});\n",
       "};\n",
       "\n",
       "mpl.figure.prototype._root_extra_style = function (el) {\n",
       "    el.style.boxSizing = 'content-box'; // override notebook setting of border-box.\n",
       "};\n",
       "\n",
       "mpl.figure.prototype._canvas_extra_style = function (el) {\n",
       "    // this is important to make the div 'focusable\n",
       "    el.setAttribute('tabindex', 0);\n",
       "    // reach out to IPython and tell the keyboard manager to turn it's self\n",
       "    // off when our div gets focus\n",
       "\n",
       "    // location in version 3\n",
       "    if (IPython.notebook.keyboard_manager) {\n",
       "        IPython.notebook.keyboard_manager.register_events(el);\n",
       "    } else {\n",
       "        // location in version 2\n",
       "        IPython.keyboard_manager.register_events(el);\n",
       "    }\n",
       "};\n",
       "\n",
       "mpl.figure.prototype._key_event_extra = function (event, _name) {\n",
       "    // Check for shift+enter\n",
       "    if (event.shiftKey && event.which === 13) {\n",
       "        this.canvas_div.blur();\n",
       "        // select the cell after this one\n",
       "        var index = IPython.notebook.find_cell_index(this.cell_info[0]);\n",
       "        IPython.notebook.select(index + 1);\n",
       "    }\n",
       "};\n",
       "\n",
       "mpl.figure.prototype.handle_save = function (fig, _msg) {\n",
       "    fig.ondownload(fig, null);\n",
       "};\n",
       "\n",
       "mpl.find_output_cell = function (html_output) {\n",
       "    // Return the cell and output element which can be found *uniquely* in the notebook.\n",
       "    // Note - this is a bit hacky, but it is done because the \"notebook_saving.Notebook\"\n",
       "    // IPython event is triggered only after the cells have been serialised, which for\n",
       "    // our purposes (turning an active figure into a static one), is too late.\n",
       "    var cells = IPython.notebook.get_cells();\n",
       "    var ncells = cells.length;\n",
       "    for (var i = 0; i < ncells; i++) {\n",
       "        var cell = cells[i];\n",
       "        if (cell.cell_type === 'code') {\n",
       "            for (var j = 0; j < cell.output_area.outputs.length; j++) {\n",
       "                var data = cell.output_area.outputs[j];\n",
       "                if (data.data) {\n",
       "                    // IPython >= 3 moved mimebundle to data attribute of output\n",
       "                    data = data.data;\n",
       "                }\n",
       "                if (data['text/html'] === html_output) {\n",
       "                    return [cell, data, j];\n",
       "                }\n",
       "            }\n",
       "        }\n",
       "    }\n",
       "};\n",
       "\n",
       "// Register the function which deals with the matplotlib target/channel.\n",
       "// The kernel may be null if the page has been refreshed.\n",
       "if (IPython.notebook.kernel !== null) {\n",
       "    IPython.notebook.kernel.comm_manager.register_target(\n",
       "        'matplotlib',\n",
       "        mpl.mpl_figure_comm\n",
       "    );\n",
       "}\n"
      ],
      "text/plain": [
       "<IPython.core.display.Javascript object>"
      ]
     },
     "metadata": {},
     "output_type": "display_data"
    },
    {
     "data": {
      "text/html": [
       "<img src=\"data:image/png;base64,iVBORw0KGgoAAAANSUhEUgAAAYMAAAECCAYAAAAciLtvAAAXmElEQVR4Xu2dfcyVdRnHH5EXeVNAUZAJTF6eZDJBVJRw6igfE2eb0yEOTBB11Jhsmn9ITmIzbUszNFuJG4uSza3h+wsoYrKabwQqVmqW6dSY2pJAMeh0/fA8Yvg86Pl67eY6l5+zXTsm57p+Pz/fu+fDfe5zP2efFh4QgAAEIPClJ7DPl54AACAAAQhAoAUZcBBAAAIQgAAy4BiAAAQgAIEWZMBBAAEIQAACyIBjAAIQgAAEjADXDDgMIAABCEAAGXAMQAACEIAAZwYcAxCAAAQgwNtEHAMQgAAEIFAIcM2A4wACEIAABJABxwAEIAABCHBmwDEAAQhAAAK8TcQxAAEIQAACXDPgGIAABCAAgZ0EuIDMgQABCEAAAsiAYwACEIAABDgz4BiAAAQgAAHeJuIYgAAEIAABrhlwDEAAAhCAABeQOQYgAAEIQOAjAnyaiCMBAhCAAASQAccABCAAAQhwZsAxAAEIQAACvE3EMQABCEAAAlwz4BiAAAQgAAEuIHMMQAACEIDARwT4NBFHAgQgAAEIIAOOAQhAAAIQ4MyAYwACEIAABHibKOYxMGJ419qI4d1dNvfbd4e4zGkfMq7fa27z1r891G1WGdRzk9+4Lu+85zfMJm0fdIDbvG1+o3buqesHbltrmTTc7/gou1q5ZuvL9jTKb4dM6owA1wwCHhunntyr9sDyQ112NmL1LJc57UPu+OrP3eadc/88t1ll0NB7/+s2b79Vf3CbVQb965xj3OZtOs5t1M5BvV/v4jbw2ctucZtVBu07+OWH7Ok016EM65AAMgh4YCADLRRkoHFDBhq3bF3IIGCiyEALBRlo3JCBxi1bFzIImCgy0EJBBho3ZKBxy9aFDAImigy0UJCBxg0ZaNyydSGDahO9wJa72KpmVa6erutoeWSghYIMNG7IQOOWrQsZVJdof1vqEavjrcrnPZdZTUYGfgEgA40lMtC4ZetCBtUl2mZLnW51aX3JDfZcPiS4bfctcGaghYIMNG7IQOOWrQsZVJfoebbUaKuF9SUfs+dzrd5EBj4hIAONIzLQuGXrQgbVJVpunCk1v77kenue+Ikzgxn2z6Vaxh7RvW39ap+7c7npTAuYm840btx0pnGL0IUMqkuhXDNYZXWC1WCr2624ZuDInzMDDSZnBhq3bF3IoNpEZ9tyc6zKp4nKtYOnO1qeawZaKMhA44YMNG7ZupBBwESRgRYKMtC4IQONW7YuZBAwUWSghYIMNG7IQOOWrQsZBEwUGWihIAONGzLQuGXrQgYBE0UGWijIQOOGDDRu2bqQQcBEkYEWCjLQuCEDjVu2LmQQMFFkoIWCDDRuyEDjlq0LGQRMdEC/kbXxY77lsrOuf/q7y5z2IfdvfNRt3pr3/b5hq2zqsX9/xW1vT57mc9Nf+4ZeWHSY294Ofryr26wyaPKlT7jN23D5OLdZZdCjq6/km85ciXY+DBlUBLqRZZBBI7R2vRYZaNyQgcYtWxcyCJgoMtBCQQYaN2SgccvWhQwCJooMtFCQgcYNGWjcsnUhg4CJIgMtFGSgcUMGGrdsXcggYKLIQAsFGWjckIHGLVsXMgiYKDLQQkEGGjdkoHHL1oUMAiaKDLRQkIHGDRlo3LJ1IYOAiSIDLRRkoHFDBhq3bF3IIGCiyEALBRlo3JCBxi1bFzIImCgy0EJBBho3ZKBxy9aFDAImigy0UJCBxg0ZaNyydSGDgIkiAy0UZKBxQwYat2xdyCBgoshACwUZaNyQgcYtWxcyCJgoMtBCQQYaN2SgccvWhQwCJooMtFCQgcYNGWjcsnUhg4CJIgMtFGSgcUMGGrdsXcggYKLIQAsFGWjckIHGLVsXMgiYKDLQQkEGGjdkoHHL1oUMAiaKDLRQkIHGDRlo3LJ1IYOAifYZ1lobftYlLjsbsnSjy5z2IX+8ttVtXs+BW91mlUF97unrNm/As++5zSqD3hm3v9u8EXP+7DarDHr9hlFu8/Zf/aLbrDLooXdv5TuQXYl2PgwZVAS6kWWQQSO0dr0WGWjckIHGLVsXMgiYKDLQQkEGGjdkoHHL1oUMAiaKDLRQkIHGDRlo3LJ1IYOAiSIDLRRkoHFDBhq3bF3IIGCiyEALBRlo3JCBxi1bFzKoLtHxttTNVjustlvNsXqlo+WRgRYKMtC4IQONW7YuZFBdooNsqS1Wm61Ot5puNRMZ+AWADDSWyEDjlq0LGeydRKfYsjOsZiEDvwCQgcYSGWjcsnUhg+oT7W1LPmx1odULyMAvAGSgsUQGGrdsXcig2kS72XIrrJZY3bnb0uVMoVRLj4MGt42a+V2XnXEHsoaRO5A1btyBrHGL0IUMqkuhiy213GpVXQadrswFZC0Uzgw0bpwZaNyydSGD6hI925ZaavV0fcnn7HleR8sjAy0UZKBxQwYat2xdyCBgoshACwUZaNyQgcYtWxcyCJgoMtBCQQYaN2SgccvWhQwCJooMtFCQgcYNGWjcsnUhg4CJIgMtFGSgcUMGGrdsXcggYKLIQAsFGWjckIHGLVsXMgiYKDLQQkEGGjdkoHHL1oUMAiba+/DW2mHTfb728hdzyu/G83ssGnms27C35k10m1UGHbhxm9u8LttrbrPKoC4flt9P6PN45TvllhW/x08mlttffB4/nnOez6D6lEcfvZKvvXQl2vkwZFAR6EaWQQaN0Nr1WmSgcUMGGrdsXcggYKLIQAsFGWjckIHGLVsXMgiYKDLQQkEGGjdkoHHL1oUMAiaKDLRQkIHGDRlo3LJ1IYOAiSIDLRRkoHFDBhq3bF3IIGCiyEALBRlo3JCBxi1bFzIImCgy0EJBBho3ZKBxy9aFDAImigy0UJCBxg0ZaNyydSGDgIkiAy0UZKBxQwYat2xdyCBgoshACwUZaNyQgcYtWxcyCJgoMtBCQQYaN2SgccvWhQwCJooMtFCQgcYNGWjcsnUhg4CJIgMtFGSgcUMGGrdsXcggYKLIQAsFGWjckIHGLVsXMgiYKDLQQkEGGjdkoHHL1oUMAiaKDLRQkIHGDRlo3LJ1IYOAiSIDLRRkoHFDBhq3bF3IIGCiyEALBRlo3JCBxi1bFzIImCgy0EJBBho3ZKBxy9aFDAImOv7EPrXvLx3usrOrfzjLZU77kIPX/MNt3ltfO8RtVhk0eMUrbvM2Hz/MbVYZ9M/RXd3mDXrifbdZZdCrbfu5zXvxgp+5zSqD9h38Mt+B7Eq082HIoCLQjSyDDBqhteu1yEDjhgw0btm6kEHARJGBFgoy0LghA41bti5kEDBRZKCFggw0bshA45atCxkETBQZaKEgA40bMtC4ZetCBgETRQZaKMhA44YMNG7ZupBBtYmOtuU2Wp1itbazpZGBFgoy0LghA41bti5kUG2iy2y5wVYLkUFLCx8t1Q4+PlqqcaNrzwSQQXVHyERb6myrgVZLkAEyUA89ZKCSo29PBJBBdcfH3bZUuQPsemTwEXTODLSDDxlo3OjizCDCMTDVNjHBapHV0k5kMMP+famWYa092m66f5TLvrkDWcPIHcgaN+5A1rhF6OLMoJoUFtgyU6w+tBpr9ZrVNKtXO1qeC8haKFxA1rhxAVnjlq0LGVSfaGdnBh/vBBlooSADjRsy0Lhl60IGARNFBlooyEDjhgw0btm6kEHARJGBFgoy0LghA41bti5kEDBRZKCFggw0bshA45atCxkETBQZaKEgA40bMtC4ZetCBgETRQZaKMhA44YMNG7ZupBBwESRgRYKMtC4IQONW7YuZBAw0f3Gjqodcvlsl52NGf6Gy5z2IfeOfsBt3jdaT3SbVQbVWv2+qnLz4X1c9/bG13a4zevR7wO3WWXQHcfd6jbvwufPd5tVBq2b+gO+9tKVaOfDkEFFoBtZBhk0QmvXa5GBxg0ZaNyydSGDgIkiAy0UZKBxQwYat2xdyCBgoshACwUZaNyQgcYtWxcyCJgoMtBCQQYaN2SgccvWhQwCJooMtFCQgcYNGWjcsnUhg4CJIgMtFGSgcUMGGrdsXcggYKLIQAsFGWjckIHGLVsXMgiYKDLQQkEGGjdkoHHL1oUMAiaKDLRQkIHGDRlo3LJ1IYOAiSIDLRRkoHFDBhq3bF3IIGCiyEALBRlo3JCBxi1bFzIImCgy0EJBBho3ZKBxy9aFDAImigy0UJCBxg0ZaNyydSGDgIkiAy0UZKBxQwYat2xdyCBgoshACwUZaNyQgcYtWxcyCJgoMtBCQQYaN2SgccvWhQwCJooMtFCQgcYNGWjcsnUhg4CJIgMtFGSgcUMGGrdsXcggYKLIQAsFGWjckIHGLVsXMgiY6JjJ/Wvzlox12dnKt8e4zGkfsu6vQ93m9eu3xW1WGfSftQe6zXtu/i1us8qgUcvmus2b1rbWbVYZ9Ot1E93mPTzlRrdZZdDooW/xHciuRDsfhgwqAt3IMsigEVq7XosMNG7IQOOWrQsZBEwUGWihIAONGzLQuGXrQgYBE0UGWijIQOOGDDRu2bqQQcBEkYEWCjLQuCEDjVu2LmQQMFFkoIWCDDRuyEDjlq0LGVSb6ARb7lqrblZPWV3R0fLIQAsFGWjckIHGLVsXMqgu0e621H1WZ1lt3tOyyEALBRlo3JCBxi1bFzKoLtGTbKn5Vl2teltdbfU4ZwZ+ASADjSUy0Lhl60IG1SU63Za6xmqcVV+rR6yOsKrtvgXODLRQkIHGDRlo3LJ1IYPqEm2zpWZazagvWW4jLW8Zbar/7/Lvd/7ZoaN7tV119zEuO+MOZA0jdyBr3LgDWeMWoQsZVJdCP1tqpdUkq55Wz9TPDHZwZuATAmcGGkfODDRu2bqQQbWJljODS6zKp4mus1rR0fK8TaSFggw0bshA45atCxkETBQZaKEgA40bMtC4ZetCBgETRQZaKMhA44YMNG7ZupBBwESRgRYKMtC4IQONW7YuZBAwUWSghYIMNG7IQOOWrQsZBEwUGWihIAONGzLQuGXrQgYBE0UGWijIQOOGDDRu2bqQQcBEex/eWjvs3PIJ1C/+uOOS67/4kE9MuKz1ZLd5vVbt7zarDDp/8O/d5i2eO81tVhn0t2+W30Li83jwzBt8BtWnzPze5W7zBvxmg9usMmjlll/ytZeuRDsfhgwqAt3IMsigEVq7XosMNG7IQOOWrQsZBEwUGWihIAONGzLQuGXrQgYBE0UGWijIQOOGDDRu2bqQQcBEkYEWCjLQuCEDjVu2LmQQMFFkoIWCDDRuyEDjlq0LGQRMFBlooSADjRsy0Lhl60IGARNFBlooyEDjhgw0btm6kEHARJGBFgoy0LghA41bti5kEDBRZKCFggw0bshA45atCxkETBQZaKEgA40bMtC4ZetCBgETRQZaKMhA44YMNG7ZupBBwESRgRYKMtC4IQONW7YuZBAwUWSghYIMNG7IQOOWrQsZBEwUGWihIAONGzLQuGXrQgYBE0UGWijIQOOGDDRu2bqQQcBEkYEWCjLQuCEDjVu2LmQQMFFkoIWCDDRuyEDjlq0LGQRMFBlooSADjRsy0Lhl60IGARNFBlooyEDjhgw0btm6kEHARA/ab1jtmEFnueys1qeXy5z2Ia+eeaDbvK3DtrvNKoP6b9jXbd7BT77nNqsMevHSHm7zjliwyW1WGfT1B593m3fft09xm1UGrV6zgO9AdiXa+TBkUBHoRpZBBo3Q2vVaZKBxQwYat2xdyCBgoshACwUZaNyQgcYtWxcyCJgoMtBCQQYaN2SgccvWhQwCJooMtFCQgcYNGWjcsnUhg4CJIgMtFGSgcUMGGrdsXcigukQL65usJlh1tbrBanlHyyMDLRRkoHFDBhq3bF3IoLpEj6zLoHz2rq/VeqsRyMAvAGSgsUQGGrdsXcigukQH1M8EzrDngVZ3WR2LDPwCQAYaS2SgccvWhQyqS7T9baKptmRvq4vqQvjUDnibSAsFGWjckIHGLVsXMqgu0VNtqblWZ1sdYPW41dFW2+pbmGHPpVr6dDuobfKQmS474w5kDSN3IGvcuANZ4xahCxlUl0KbLTXNarZVN6sXrI6y2rr7Fjgz0ELhzEDjxpmBxi1bFzKoLtHyi3NusxppVX5RzTKrxR0tjwy0UJCBxg0ZaNyydSGDgIkiAy0UZKBxQwYat2xdyCBgoshACwUZaNyQgcYtWxcyCJgoMtBCQQYaN2SgccvWhQwCJooMtFCQgcYNGWjcsnUhg4CJIgMtFGSgcUMGGrdsXcggYKLIQAsFGWjckIHGLVsXMgiY6JjJ/Wvzlox12dmdk1pd5rQPeemnw9zmLZxwj9usMmhHze9wXvyjc1z39sFBfns77MZ1rnvb54Hym1J8HtuvLL9pxe/xyO+u4msv/XDucZLfEVrRhr8MyyADLWVkoHFDBhq3bF3IIGCiyEALBRlo3JCBxi1bFzIImCgy0EJBBho3ZKBxy9aFDAImigy0UJCBxg0ZaNyydSGDgIkiAy0UZKBxQwYat2xdyCBgoshACwUZaNyQgcYtWxcyCJgoMtBCQQYaN2SgccvWhQwCJooMtFCQgcYNGWjcsnUhg4CJIgMtFGSgcUMGGrdsXcggYKLIQAsFGWjckIHGLVsXMgiYKDLQQkEGGjdkoHHL1oUMAiaKDLRQkIHGDRlo3LJ1IYOAiSIDLRRkoHFDBhq3bF3IIGCiyEALBRlo3JCBxi1bFzIImCgy0EJBBho3ZKBxy9aFDAImigy0UJCBxg0ZaNyydSGDgIkiAy0UZKBxQwYat2xdyCBgoshACwUZaNyQgcYtWxcyCJgoMtBCQQYaN2SgccvWhQxiJvqSbesvn2Nrg+01b36O1+2Nl7C3xqnD7NPMRti/GtU4SjoaJYAMGiUW6/UP2nZOi7Wlj3fD3hoPBmaNM6PDiQAycAK5l8bww0MDH5Vb1H0VypH3ph0FdP0fAWTQ3AfEDNv+r4L+J7C3xoOBWePM6HAigAycQDIGAhCAQDMTQAbNnB57hwAEIOBEABk4gax4zAW23sVWNat5VusqXr+z5cbbH9xstcNqu9Ucq1eC7K19G6PtHzZanWK1NtDeJtherrXqZvWU1RVB9lZ+RtxkVfbX1eoGq+VB9sY2HAkgA0eYFY3qb+s8YnW81RCrZVaTK1r7s5YZZC/YYrXZ6nSr6VYzP6up4j8vvMpHOBdaRZFBd9vLfVZn1dlVjGSPyx1pf1pkUOTZ12q9Vfm4J49kBJBB8wXaVv9Be2l96xvs+TirbcH+U6bYfsoF0VmB9jXR9nK21UCrJYFkcJLtZb5V+Zt3b6urrR4Pwm2A7aOcCZxR53aXPR8bZG9sw5EAMnCEWdGo82yd8lbHwvp6j9nzuVaRbj4rP9AetrrQ6oWKuHyeZe6uy+n6YDIoZ1DXWI2zKn/7Lmd+R1iVtwH39qP9baKptpGS60VWRQg8khFABs0XaLnJrFT5m2R5lNP28jfeKGcG5T3vFfUftncGwlt+mJX3vRdZLa3vL8rbROVsr7ydVs6kyqPsq7xltCkAv1NtD3OtyhnVAVbljOXoQMdbAEQ5toAMmi/Hcs1gldUJVuW979utolwz6GJ7KW8plP2Vt2EiPRbYZspbVx9ajbV6zWqa1asBNtnP9rDSapJVT6tnrMqZQbkQv7cfRVSF02yrIvpypneU1da9vTHW9yWADHx5VjWt/B+zfFKnvI1Qrh08XdXCn7FO+dvj0k/s5zn75/Jpp2iPssdI1wwKn3JmcEn9B+519lzOriI89rVN3GY10qqHVbkAvzjCxtiDLwFk4MuTaRCAAASakgAyaMrY2DQEIAABXwLIwJcn0yAAAQg0JQFk0JSxsWkIQAACvgSQgS9PpkEAAhBoSgLIoCljY9MQgAAEfAkgA1+eTIMABCDQlASQQVPGxqYhAAEI+BJABr48mQYBCECgKQkgg6aMjU1DAAIQ8CWADHx5Mg0CEIBAUxJABk0ZG5uGAAQg4EsAGfjyZBoEIACBpiSADJoyNjYNAQhAwJcAMvDlyTQIQAACTUkAGTRlbGwaAhCAgC8BZODLk2kQgAAEmpIAMmjK2Ng0BCAAAV8CyMCXJ9MgAAEINCUBZNCUsbFpCEAAAr4E/gfCeY3VANasUwAAAABJRU5ErkJggg==\" width=\"432.15\">"
      ],
      "text/plain": [
       "<IPython.core.display.HTML object>"
      ]
     },
     "metadata": {},
     "output_type": "display_data"
    }
   ],
   "source": [
    "import matplotlib.animation as animation\n",
    "%matplotlib notebook\n",
    "\n",
    "# Create a figure and axis\n",
    "fig, ax = plt.subplots()\n",
    "\n",
    "# Generate a random image\n",
    "def random_image():\n",
    "    return np.random.random((10, 10))\n",
    "\n",
    "# Display random image using imshow\n",
    "im = ax.imshow(random_image(), cmap='viridis', animated=True)\n",
    "\n",
    "# Update function for animation\n",
    "def update(*args):\n",
    "    im.set_array(random_image())\n",
    "    return im,\n",
    "\n",
    "# Create the animation\n",
    "ani = animation.FuncAnimation(fig, update, frames=10, interval=500, blit=True)"
   ]
  },
  {
   "cell_type": "code",
   "execution_count": 84,
   "id": "c82ba79d",
   "metadata": {
    "slideshow": {
     "slide_type": "fragment"
    }
   },
   "outputs": [],
   "source": [
    "%matplotlib inline"
   ]
  },
  {
   "cell_type": "code",
   "execution_count": 90,
   "id": "01b1ed59",
   "metadata": {},
   "outputs": [
    {
     "data": {
      "image/png": "[encoded data removed]",
      "text/plain": [
       "<Figure size 432x288 with 1 Axes>"
      ]
     },
     "metadata": {
      "needs_background": "light"
     },
     "output_type": "display_data"
    }
   ],
   "source": [
    "import numpy as np\n",
    "import matplotlib.pyplot as plt\n",
    "\n",
    "# Sample data: a NumPy array of random numbers\n",
    "data = np.random.poisson(50,1000)  # 1000 random numbers from a standard normal distribution\n",
    "\n",
    "# Create a histogram\n",
    "plt.hist(data, bins=30, edgecolor='k', alpha=0.7)\n",
    "\n",
    "# Add title and labels\n",
    "plt.title(\"Distribution of Random Numbers\")\n",
    "plt.xlabel(\"Value\")\n",
    "plt.ylabel(\"Frequency\")\n",
    "\n",
    "# Show the plot\n",
    "plt.show()"
   ]
  },
  {
   "cell_type": "code",
   "execution_count": null,
   "id": "401a1574",
   "metadata": {},
   "outputs": [],
   "source": []
  }
 ],
 "metadata": {
  "celltoolbar": "Slideshow",
  "kernelspec": {
   "display_name": "Python 3 (ipykernel)",
   "language": "python",
   "name": "python3"
  },
  "language_info": {
   "codemirror_mode": {
    "name": "ipython",
    "version": 3
   },
   "file_extension": ".py",
   "mimetype": "text/x-python",
   "name": "python",
   "nbconvert_exporter": "python",
   "pygments_lexer": "ipython3",
   "version": "3.9.12"
  }
 },
 "nbformat": 4,
 "nbformat_minor": 5
}
