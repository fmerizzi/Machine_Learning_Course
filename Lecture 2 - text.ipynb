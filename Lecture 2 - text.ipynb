{
 "cells": [
  {
   "cell_type": "markdown",
   "id": "182e9b75",
   "metadata": {},
   "source": [
    "# Lecture 2 - text data"
   ]
  },
  {
   "cell_type": "markdown",
   "id": "71fd801f",
   "metadata": {},
   "source": [
    "Language is the tool we use to communicate, think, store knowledge. Its the key! "
   ]
  },
  {
   "cell_type": "markdown",
   "id": "2cff1c1b",
   "metadata": {},
   "source": [
    "Text data is a very hard data type to work with : "
   ]
  },
  {
   "cell_type": "markdown",
   "id": "2b5d9e49",
   "metadata": {},
   "source": [
    "- High Dimensionality: Text data, especially when tokenized into individual words or n-grams, can lead to a very high-dimensional feature space. This can make models computationally expensive and increase the risk of overfitting.\n",
    "\n",
    "- Sparsity: Most text documents will only contain a tiny fraction of the words in a language, resulting in many zeros in the feature representation. This sparsity can make certain modeling techniques inefficient or infeasible.\n",
    "\n",
    "- Ambiguity and Polysemy: Many words in languages have multiple meanings based on context. For example, the word \"bank\" can mean the side of a river or a financial institution.\n",
    "\n",
    "- Synonymy: Different words can have similar meanings, like \"big\" and \"large\". This poses a challenge in identifying the true intent or sentiment behind texts.\n",
    "\n",
    "- Complex Dependencies: The meaning of a word can depend on its surrounding words, or even words much earlier in a text. Capturing long-term dependencies can be challenging.\n",
    "\n",
    "- Variability: Texts can express the same idea in myriad ways due to differences in style, tone, or choice of vocabulary.\n",
    "\n",
    "- Noisy Data: Text data, especially from sources like social media, can be noisy. They may contain typos, slang, non-standard grammar, or emoticons.\n",
    "\n",
    "- Handling of Out-of-Vocabulary (OOV) Words: In real-world applications, it's common to encounter words not seen during training. Handling OOV words is challenging.\n",
    "\n",
    "- Cultural and Temporal Dynamics: The way language is used can change based on cultural or temporal contexts, making it hard to generalize models across different cultures or time periods.\n",
    "\n",
    "- Data Labeling Challenges: For supervised learning, text data may require manual labeling. This can be time-consuming, expensive, and subjective. Inter-annotator disagreement can also be an issue.\n",
    "\n",
    "- Bias and Fairness: Text data, especially from the web, can contain biases. Machine learning models trained on such data can inherit and amplify these biases, leading to unfair or prejudiced predictions.\n",
    "\n",
    "- Scalability: Processing and analyzing large text corpora require significant computational resources and efficient algorithms.\n",
    "\n",
    "- Multilingual Challenges: Building models that work across multiple languages or even dialects can be challenging, especially when resources for certain languages are scarce."
   ]
  },
  {
   "cell_type": "code",
   "execution_count": 1,
   "id": "884766dc",
   "metadata": {},
   "outputs": [],
   "source": [
    "categories = ['alt.atheism', 'soc.religion.christian','comp.graphics', 'sci.med']"
   ]
  },
  {
   "cell_type": "code",
   "execution_count": 2,
   "id": "2bee75c8",
   "metadata": {},
   "outputs": [],
   "source": [
    "from sklearn.datasets import fetch_20newsgroups"
   ]
  },
  {
   "cell_type": "code",
   "execution_count": 3,
   "id": "bb8da915",
   "metadata": {},
   "outputs": [],
   "source": [
    "twenty_train = fetch_20newsgroups(subset='train', categories=categories, shuffle=True, random_state=42)"
   ]
  },
  {
   "cell_type": "code",
   "execution_count": 4,
   "id": "aa5cac94",
   "metadata": {},
   "outputs": [
    {
     "data": {
      "text/plain": [
       "2257"
      ]
     },
     "execution_count": 4,
     "metadata": {},
     "output_type": "execute_result"
    }
   ],
   "source": [
    "len(twenty_train.data)"
   ]
  }
 ],
 "metadata": {
  "kernelspec": {
   "display_name": "Python 3 (ipykernel)",
   "language": "python",
   "name": "python3"
  },
  "language_info": {
   "codemirror_mode": {
    "name": "ipython",
    "version": 3
   },
   "file_extension": ".py",
   "mimetype": "text/x-python",
   "name": "python",
   "nbconvert_exporter": "python",
   "pygments_lexer": "ipython3",
   "version": "3.10.12"
  }
 },
 "nbformat": 4,
 "nbformat_minor": 5
}
